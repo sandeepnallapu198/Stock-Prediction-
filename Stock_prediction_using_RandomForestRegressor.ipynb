{
 "cells": [
  {
   "cell_type": "markdown",
   "metadata": {
    "id": "NdHIE4CSDCp3"
   },
   "source": [
    "# ** Stock Prediction using Random Forest Regression**"
   ]
  },
  {
   "cell_type": "markdown",
   "metadata": {
    "id": "1NTrKL3eIgZ8"
   },
   "source": [
    "### *Importing Libraries*"
   ]
  },
  {
   "cell_type": "code",
   "execution_count": 2,
   "metadata": {
    "id": "ae6Pxuc-CNeu"
   },
   "outputs": [],
   "source": [
    "import pandas as pd\n",
    "import numpy as np"
   ]
  },
  {
   "cell_type": "markdown",
   "metadata": {
    "id": "NHijCKx7I0k8"
   },
   "source": [
    "### *Load Dataset*"
   ]
  },
  {
   "cell_type": "code",
   "execution_count": 3,
   "metadata": {
    "id": "zxBak91bI2yh"
   },
   "outputs": [],
   "source": [
    "dataset = pd.read_csv(\"C:\\\\Users\\\\HAI\\Downloads\\\\EW-MAX.csv\")"
   ]
  },
  {
   "cell_type": "markdown",
   "metadata": {
    "id": "5XKSRUPWI5Q-"
   },
   "source": [
    "### *Summarize Dataset*"
   ]
  },
  {
   "cell_type": "code",
   "execution_count": 4,
   "metadata": {
    "id": "63BR2xiKI7oZ"
   },
   "outputs": [
    {
     "data": {
      "text/html": [
       "<div>\n",
       "<style scoped>\n",
       "    .dataframe tbody tr th:only-of-type {\n",
       "        vertical-align: middle;\n",
       "    }\n",
       "\n",
       "    .dataframe tbody tr th {\n",
       "        vertical-align: top;\n",
       "    }\n",
       "\n",
       "    .dataframe thead th {\n",
       "        text-align: right;\n",
       "    }\n",
       "</style>\n",
       "<table border=\"1\" class=\"dataframe\">\n",
       "  <thead>\n",
       "    <tr style=\"text-align: right;\">\n",
       "      <th></th>\n",
       "      <th>Date</th>\n",
       "      <th>Open</th>\n",
       "      <th>High</th>\n",
       "      <th>Low</th>\n",
       "      <th>Close</th>\n",
       "      <th>Adj_Close</th>\n",
       "      <th>Volume</th>\n",
       "    </tr>\n",
       "  </thead>\n",
       "  <tbody>\n",
       "    <tr>\n",
       "      <th>0</th>\n",
       "      <td>2000/3/27</td>\n",
       "      <td>3.812500</td>\n",
       "      <td>4.156250</td>\n",
       "      <td>3.812500</td>\n",
       "      <td>4.125000</td>\n",
       "      <td>4.125000</td>\n",
       "      <td>3675600</td>\n",
       "    </tr>\n",
       "    <tr>\n",
       "      <th>1</th>\n",
       "      <td>2000/3/28</td>\n",
       "      <td>4.125000</td>\n",
       "      <td>4.125000</td>\n",
       "      <td>4.000000</td>\n",
       "      <td>4.015625</td>\n",
       "      <td>4.015625</td>\n",
       "      <td>1077600</td>\n",
       "    </tr>\n",
       "    <tr>\n",
       "      <th>2</th>\n",
       "      <td>2000/3/29</td>\n",
       "      <td>4.000000</td>\n",
       "      <td>4.031250</td>\n",
       "      <td>3.953125</td>\n",
       "      <td>4.000000</td>\n",
       "      <td>4.000000</td>\n",
       "      <td>437200</td>\n",
       "    </tr>\n",
       "    <tr>\n",
       "      <th>3</th>\n",
       "      <td>2000/3/30</td>\n",
       "      <td>4.000000</td>\n",
       "      <td>4.000000</td>\n",
       "      <td>3.843750</td>\n",
       "      <td>3.843750</td>\n",
       "      <td>3.843750</td>\n",
       "      <td>1883600</td>\n",
       "    </tr>\n",
       "    <tr>\n",
       "      <th>4</th>\n",
       "      <td>2000/3/31</td>\n",
       "      <td>3.734375</td>\n",
       "      <td>3.734375</td>\n",
       "      <td>3.390625</td>\n",
       "      <td>3.390625</td>\n",
       "      <td>3.390625</td>\n",
       "      <td>7931600</td>\n",
       "    </tr>\n",
       "  </tbody>\n",
       "</table>\n",
       "</div>"
      ],
      "text/plain": [
       "        Date      Open      High       Low     Close  Adj_Close   Volume\n",
       "0  2000/3/27  3.812500  4.156250  3.812500  4.125000   4.125000  3675600\n",
       "1  2000/3/28  4.125000  4.125000  4.000000  4.015625   4.015625  1077600\n",
       "2  2000/3/29  4.000000  4.031250  3.953125  4.000000   4.000000   437200\n",
       "3  2000/3/30  4.000000  4.000000  3.843750  3.843750   3.843750  1883600\n",
       "4  2000/3/31  3.734375  3.734375  3.390625  3.390625   3.390625  7931600"
      ]
     },
     "execution_count": 4,
     "metadata": {},
     "output_type": "execute_result"
    }
   ],
   "source": [
    "dataset.head()"
   ]
  },
  {
   "cell_type": "code",
   "execution_count": 5,
   "metadata": {},
   "outputs": [
    {
     "data": {
      "text/html": [
       "<div>\n",
       "<style scoped>\n",
       "    .dataframe tbody tr th:only-of-type {\n",
       "        vertical-align: middle;\n",
       "    }\n",
       "\n",
       "    .dataframe tbody tr th {\n",
       "        vertical-align: top;\n",
       "    }\n",
       "\n",
       "    .dataframe thead th {\n",
       "        text-align: right;\n",
       "    }\n",
       "</style>\n",
       "<table border=\"1\" class=\"dataframe\">\n",
       "  <thead>\n",
       "    <tr style=\"text-align: right;\">\n",
       "      <th></th>\n",
       "      <th>Date</th>\n",
       "      <th>Open</th>\n",
       "      <th>High</th>\n",
       "      <th>Low</th>\n",
       "      <th>Close</th>\n",
       "      <th>Adj_Close</th>\n",
       "      <th>Volume</th>\n",
       "    </tr>\n",
       "  </thead>\n",
       "  <tbody>\n",
       "    <tr>\n",
       "      <th>4387</th>\n",
       "      <td>2017/9/1</td>\n",
       "      <td>113.790001</td>\n",
       "      <td>114.099998</td>\n",
       "      <td>112.790001</td>\n",
       "      <td>113.309998</td>\n",
       "      <td>113.309998</td>\n",
       "      <td>950000</td>\n",
       "    </tr>\n",
       "    <tr>\n",
       "      <th>4388</th>\n",
       "      <td>2017/9/5</td>\n",
       "      <td>112.519997</td>\n",
       "      <td>113.529999</td>\n",
       "      <td>111.160004</td>\n",
       "      <td>111.870003</td>\n",
       "      <td>111.870003</td>\n",
       "      <td>1805200</td>\n",
       "    </tr>\n",
       "    <tr>\n",
       "      <th>4389</th>\n",
       "      <td>2017/9/6</td>\n",
       "      <td>112.029999</td>\n",
       "      <td>112.489998</td>\n",
       "      <td>110.250000</td>\n",
       "      <td>112.230003</td>\n",
       "      <td>112.230003</td>\n",
       "      <td>2136700</td>\n",
       "    </tr>\n",
       "    <tr>\n",
       "      <th>4390</th>\n",
       "      <td>2017/9/7</td>\n",
       "      <td>112.459999</td>\n",
       "      <td>112.900002</td>\n",
       "      <td>112.000000</td>\n",
       "      <td>112.339996</td>\n",
       "      <td>112.339996</td>\n",
       "      <td>1251600</td>\n",
       "    </tr>\n",
       "    <tr>\n",
       "      <th>4391</th>\n",
       "      <td>2017/9/8</td>\n",
       "      <td>112.300003</td>\n",
       "      <td>114.790001</td>\n",
       "      <td>112.010002</td>\n",
       "      <td>113.190002</td>\n",
       "      <td>113.190002</td>\n",
       "      <td>1611700</td>\n",
       "    </tr>\n",
       "  </tbody>\n",
       "</table>\n",
       "</div>"
      ],
      "text/plain": [
       "          Date        Open        High         Low       Close   Adj_Close  \\\n",
       "4387  2017/9/1  113.790001  114.099998  112.790001  113.309998  113.309998   \n",
       "4388  2017/9/5  112.519997  113.529999  111.160004  111.870003  111.870003   \n",
       "4389  2017/9/6  112.029999  112.489998  110.250000  112.230003  112.230003   \n",
       "4390  2017/9/7  112.459999  112.900002  112.000000  112.339996  112.339996   \n",
       "4391  2017/9/8  112.300003  114.790001  112.010002  113.190002  113.190002   \n",
       "\n",
       "       Volume  \n",
       "4387   950000  \n",
       "4388  1805200  \n",
       "4389  2136700  \n",
       "4390  1251600  \n",
       "4391  1611700  "
      ]
     },
     "execution_count": 5,
     "metadata": {},
     "output_type": "execute_result"
    }
   ],
   "source": [
    "dataset.tail()"
   ]
  },
  {
   "cell_type": "code",
   "execution_count": 6,
   "metadata": {},
   "outputs": [
    {
     "data": {
      "text/html": [
       "<div>\n",
       "<style scoped>\n",
       "    .dataframe tbody tr th:only-of-type {\n",
       "        vertical-align: middle;\n",
       "    }\n",
       "\n",
       "    .dataframe tbody tr th {\n",
       "        vertical-align: top;\n",
       "    }\n",
       "\n",
       "    .dataframe thead th {\n",
       "        text-align: right;\n",
       "    }\n",
       "</style>\n",
       "<table border=\"1\" class=\"dataframe\">\n",
       "  <thead>\n",
       "    <tr style=\"text-align: right;\">\n",
       "      <th></th>\n",
       "      <th>Open</th>\n",
       "      <th>High</th>\n",
       "      <th>Low</th>\n",
       "      <th>Close</th>\n",
       "      <th>Adj_Close</th>\n",
       "      <th>Volume</th>\n",
       "    </tr>\n",
       "  </thead>\n",
       "  <tbody>\n",
       "    <tr>\n",
       "      <th>count</th>\n",
       "      <td>4392.000000</td>\n",
       "      <td>4392.000000</td>\n",
       "      <td>4392.000000</td>\n",
       "      <td>4392.000000</td>\n",
       "      <td>4392.000000</td>\n",
       "      <td>4.392000e+03</td>\n",
       "    </tr>\n",
       "    <tr>\n",
       "      <th>mean</th>\n",
       "      <td>30.562539</td>\n",
       "      <td>30.893618</td>\n",
       "      <td>30.238833</td>\n",
       "      <td>30.572580</td>\n",
       "      <td>30.572580</td>\n",
       "      <td>1.884027e+06</td>\n",
       "    </tr>\n",
       "    <tr>\n",
       "      <th>std</th>\n",
       "      <td>29.914758</td>\n",
       "      <td>30.210974</td>\n",
       "      <td>29.615761</td>\n",
       "      <td>29.905778</td>\n",
       "      <td>29.905778</td>\n",
       "      <td>1.621609e+06</td>\n",
       "    </tr>\n",
       "    <tr>\n",
       "      <th>min</th>\n",
       "      <td>3.296875</td>\n",
       "      <td>3.390625</td>\n",
       "      <td>3.000000</td>\n",
       "      <td>3.250000</td>\n",
       "      <td>3.250000</td>\n",
       "      <td>1.904000e+05</td>\n",
       "    </tr>\n",
       "    <tr>\n",
       "      <th>25%</th>\n",
       "      <td>8.718125</td>\n",
       "      <td>8.803125</td>\n",
       "      <td>8.625000</td>\n",
       "      <td>8.712500</td>\n",
       "      <td>8.712500</td>\n",
       "      <td>1.088800e+06</td>\n",
       "    </tr>\n",
       "    <tr>\n",
       "      <th>50%</th>\n",
       "      <td>14.766250</td>\n",
       "      <td>14.981250</td>\n",
       "      <td>14.662500</td>\n",
       "      <td>14.767500</td>\n",
       "      <td>14.767500</td>\n",
       "      <td>1.539300e+06</td>\n",
       "    </tr>\n",
       "    <tr>\n",
       "      <th>75%</th>\n",
       "      <td>42.546248</td>\n",
       "      <td>43.051249</td>\n",
       "      <td>42.086249</td>\n",
       "      <td>42.539999</td>\n",
       "      <td>42.539999</td>\n",
       "      <td>2.188900e+06</td>\n",
       "    </tr>\n",
       "    <tr>\n",
       "      <th>max</th>\n",
       "      <td>121.080002</td>\n",
       "      <td>121.750000</td>\n",
       "      <td>120.169998</td>\n",
       "      <td>121.360001</td>\n",
       "      <td>121.360001</td>\n",
       "      <td>4.641260e+07</td>\n",
       "    </tr>\n",
       "  </tbody>\n",
       "</table>\n",
       "</div>"
      ],
      "text/plain": [
       "              Open         High          Low        Close    Adj_Close  \\\n",
       "count  4392.000000  4392.000000  4392.000000  4392.000000  4392.000000   \n",
       "mean     30.562539    30.893618    30.238833    30.572580    30.572580   \n",
       "std      29.914758    30.210974    29.615761    29.905778    29.905778   \n",
       "min       3.296875     3.390625     3.000000     3.250000     3.250000   \n",
       "25%       8.718125     8.803125     8.625000     8.712500     8.712500   \n",
       "50%      14.766250    14.981250    14.662500    14.767500    14.767500   \n",
       "75%      42.546248    43.051249    42.086249    42.539999    42.539999   \n",
       "max     121.080002   121.750000   120.169998   121.360001   121.360001   \n",
       "\n",
       "             Volume  \n",
       "count  4.392000e+03  \n",
       "mean   1.884027e+06  \n",
       "std    1.621609e+06  \n",
       "min    1.904000e+05  \n",
       "25%    1.088800e+06  \n",
       "50%    1.539300e+06  \n",
       "75%    2.188900e+06  \n",
       "max    4.641260e+07  "
      ]
     },
     "execution_count": 6,
     "metadata": {},
     "output_type": "execute_result"
    }
   ],
   "source": [
    "dataset.describe()"
   ]
  },
  {
   "cell_type": "code",
   "execution_count": 7,
   "metadata": {},
   "outputs": [
    {
     "name": "stdout",
     "output_type": "stream",
     "text": [
      "<class 'pandas.core.frame.DataFrame'>\n",
      "RangeIndex: 4392 entries, 0 to 4391\n",
      "Data columns (total 7 columns):\n",
      " #   Column     Non-Null Count  Dtype  \n",
      "---  ------     --------------  -----  \n",
      " 0   Date       4392 non-null   object \n",
      " 1   Open       4392 non-null   float64\n",
      " 2   High       4392 non-null   float64\n",
      " 3   Low        4392 non-null   float64\n",
      " 4   Close      4392 non-null   float64\n",
      " 5   Adj_Close  4392 non-null   float64\n",
      " 6   Volume     4392 non-null   int64  \n",
      "dtypes: float64(5), int64(1), object(1)\n",
      "memory usage: 240.3+ KB\n"
     ]
    }
   ],
   "source": [
    "dataset.info()"
   ]
  },
  {
   "cell_type": "code",
   "execution_count": 8,
   "metadata": {},
   "outputs": [
    {
     "data": {
      "text/plain": [
       "Date         0\n",
       "Open         0\n",
       "High         0\n",
       "Low          0\n",
       "Close        0\n",
       "Adj_Close    0\n",
       "Volume       0\n",
       "dtype: int64"
      ]
     },
     "execution_count": 8,
     "metadata": {},
     "output_type": "execute_result"
    }
   ],
   "source": [
    "dataset.isna().sum()"
   ]
  },
  {
   "cell_type": "code",
   "execution_count": 9,
   "metadata": {},
   "outputs": [
    {
     "data": {
      "text/plain": [
       "<AxesSubplot:>"
      ]
     },
     "execution_count": 9,
     "metadata": {},
     "output_type": "execute_result"
    },
    {
     "data": {
      "image/png": "[encoded data removed]",
      "text/plain": [
       "<Figure size 1600x600 with 1 Axes>"
      ]
     },
     "metadata": {},
     "output_type": "display_data"
    }
   ],
   "source": [
    "dataset['Open'].plot(figsize = (16,6))\n"
   ]
  },
  {
   "cell_type": "markdown",
   "metadata": {
    "id": "Zv8cn1g8Jix-"
   },
   "source": [
    "### *Segregate Dataset into Input X & Output Y*"
   ]
  },
  {
   "cell_type": "code",
   "execution_count": 10,
   "metadata": {
    "id": "iR3g4pDjJoj9"
   },
   "outputs": [
    {
     "data": {
      "text/plain": [
       "array([[3.81250000e+00, 4.15625000e+00, 3.81250000e+00, 3.67560000e+06],\n",
       "       [4.12500000e+00, 4.12500000e+00, 4.00000000e+00, 1.07760000e+06],\n",
       "       [4.00000000e+00, 4.03125000e+00, 3.95312500e+00, 4.37200000e+05],\n",
       "       ...,\n",
       "       [1.12029999e+02, 1.12489998e+02, 1.10250000e+02, 2.13670000e+06],\n",
       "       [1.12459999e+02, 1.12900002e+02, 1.12000000e+02, 1.25160000e+06],\n",
       "       [1.12300003e+02, 1.14790001e+02, 1.12010002e+02, 1.61170000e+06]])"
      ]
     },
     "execution_count": 10,
     "metadata": {},
     "output_type": "execute_result"
    }
   ],
   "source": [
    "X = dataset[['Open','High','Low','Volume']].values\n",
    "X"
   ]
  },
  {
   "cell_type": "code",
   "execution_count": 11,
   "metadata": {},
   "outputs": [
    {
     "data": {
      "text/plain": [
       "array([  4.125   ,   4.015625,   4.      , ..., 112.230003, 112.339996,\n",
       "       113.190002])"
      ]
     },
     "execution_count": 11,
     "metadata": {},
     "output_type": "execute_result"
    }
   ],
   "source": [
    "Y  = dataset['Close'].values\n",
    "Y\n"
   ]
  },
  {
   "cell_type": "markdown",
   "metadata": {
    "id": "z5kccmBcw1PQ"
   },
   "source": [
    "### *Splitting Dataset for Testing our Model*"
   ]
  },
  {
   "cell_type": "code",
   "execution_count": 12,
   "metadata": {
    "id": "Pc4kGEuDw36Q"
   },
   "outputs": [],
   "source": [
    "from sklearn.model_selection import train_test_split\n",
    "x_train,x_test,y_train,y_test = train_test_split(X,Y,test_size=0.20,random_state=0)"
   ]
  },
  {
   "cell_type": "markdown",
   "metadata": {},
   "source": [
    "# Fit_Transform - fit method is calculating the mean of variance of each of the features present in our data\n",
    "\n",
    "# Transform -Transform method is transforming all the features using respective mean and variance \n"
   ]
  },
  {
   "cell_type": "code",
   "execution_count": 13,
   "metadata": {},
   "outputs": [],
   "source": [
    "from sklearn.preprocessing import StandardScaler\n",
    "\n",
    "SC = StandardScaler()\n",
    "x_train = SC.fit_transform(x_train)\n",
    "x_test = SC.transform(x_test)"
   ]
  },
  {
   "cell_type": "markdown",
   "metadata": {
    "id": "XP-L6ZRyL30I"
   },
   "source": [
    "### *Training Dataset using Support Linear Regression*"
   ]
  },
  {
   "cell_type": "code",
   "execution_count": 14,
   "metadata": {
    "id": "c4x1C89ZVjr9"
   },
   "outputs": [
    {
     "data": {
      "text/plain": [
       "RandomForestRegressor()"
      ]
     },
     "execution_count": 14,
     "metadata": {},
     "output_type": "execute_result"
    }
   ],
   "source": [
    "from sklearn.ensemble import RandomForestRegressor\n",
    "model = RandomForestRegressor()\n",
    "model.fit(x_train,y_train)"
   ]
  },
  {
   "cell_type": "code",
   "execution_count": 21,
   "metadata": {
    "id": "mt_Z7EDqWhdB"
   },
   "outputs": [
    {
     "name": "stdout",
     "output_type": "stream",
     "text": [
      "Root Mean Square Error: 0.36495209030065984\n",
      "R2Score 99.98534174996895\n"
     ]
    }
   ],
   "source": [
    "ypred = model.predict(x_test)\n",
    "\n",
    "from sklearn.metrics import r2_score,mean_squared_error\n",
    "mse = mean_squared_error(y_test,ypred)\n",
    "rmse=np.sqrt(mse)\n",
    "print(\"Root Mean Square Error:\",rmse)\n",
    "r2score = r2_score(y_test,ypred)\n",
    "print(\"R2Score\",r2score*100)"
   ]
  },
  {
   "cell_type": "code",
   "execution_count": 26,
   "metadata": {},
   "outputs": [
    {
     "data": {
      "text/html": [
       "<style type=\"text/css\">\n",
       "#T_3f5a4_row0_col0, #T_3f5a4_row0_col1 {\n",
       "  background-color: #00441b;\n",
       "  color: #f1f1f1;\n",
       "}\n",
       "#T_3f5a4_row1_col0, #T_3f5a4_row1_col1 {\n",
       "  background-color: #f0f9ec;\n",
       "  color: #000000;\n",
       "}\n",
       "#T_3f5a4_row2_col0, #T_3f5a4_row2_col1, #T_3f5a4_row11_col1 {\n",
       "  background-color: #f5fbf3;\n",
       "  color: #000000;\n",
       "}\n",
       "#T_3f5a4_row3_col0, #T_3f5a4_row3_col1 {\n",
       "  background-color: #ecf8e8;\n",
       "  color: #000000;\n",
       "}\n",
       "#T_3f5a4_row4_col0, #T_3f5a4_row4_col1, #T_3f5a4_row7_col0 {\n",
       "  background-color: #edf8ea;\n",
       "  color: #000000;\n",
       "}\n",
       "#T_3f5a4_row5_col0, #T_3f5a4_row5_col1 {\n",
       "  background-color: #f3faf0;\n",
       "  color: #000000;\n",
       "}\n",
       "#T_3f5a4_row6_col0, #T_3f5a4_row6_col1 {\n",
       "  background-color: #e9f7e5;\n",
       "  color: #000000;\n",
       "}\n",
       "#T_3f5a4_row7_col1, #T_3f5a4_row10_col0, #T_3f5a4_row10_col1, #T_3f5a4_row17_col0, #T_3f5a4_row17_col1, #T_3f5a4_row18_col0, #T_3f5a4_row18_col1 {\n",
       "  background-color: #edf8e9;\n",
       "  color: #000000;\n",
       "}\n",
       "#T_3f5a4_row8_col0, #T_3f5a4_row8_col1, #T_3f5a4_row16_col0 {\n",
       "  background-color: #f7fcf5;\n",
       "  color: #000000;\n",
       "}\n",
       "#T_3f5a4_row9_col0 {\n",
       "  background-color: #dcf2d7;\n",
       "  color: #000000;\n",
       "}\n",
       "#T_3f5a4_row9_col1 {\n",
       "  background-color: #dbf1d6;\n",
       "  color: #000000;\n",
       "}\n",
       "#T_3f5a4_row11_col0, #T_3f5a4_row12_col0, #T_3f5a4_row12_col1, #T_3f5a4_row15_col0, #T_3f5a4_row15_col1, #T_3f5a4_row16_col1 {\n",
       "  background-color: #f6fcf4;\n",
       "  color: #000000;\n",
       "}\n",
       "#T_3f5a4_row13_col0, #T_3f5a4_row13_col1 {\n",
       "  background-color: #bae3b3;\n",
       "  color: #000000;\n",
       "}\n",
       "#T_3f5a4_row14_col0, #T_3f5a4_row14_col1 {\n",
       "  background-color: #e8f6e3;\n",
       "  color: #000000;\n",
       "}\n",
       "#T_3f5a4_row19_col0, #T_3f5a4_row22_col0, #T_3f5a4_row22_col1 {\n",
       "  background-color: #eff9ec;\n",
       "  color: #000000;\n",
       "}\n",
       "#T_3f5a4_row19_col1 {\n",
       "  background-color: #eff9eb;\n",
       "  color: #000000;\n",
       "}\n",
       "#T_3f5a4_row20_col0, #T_3f5a4_row20_col1 {\n",
       "  background-color: #a0d99b;\n",
       "  color: #000000;\n",
       "}\n",
       "#T_3f5a4_row21_col0, #T_3f5a4_row21_col1 {\n",
       "  background-color: #f4fbf2;\n",
       "  color: #000000;\n",
       "}\n",
       "#T_3f5a4_row23_col0 {\n",
       "  background-color: #147e3a;\n",
       "  color: #f1f1f1;\n",
       "}\n",
       "#T_3f5a4_row23_col1 {\n",
       "  background-color: #127c39;\n",
       "  color: #f1f1f1;\n",
       "}\n",
       "#T_3f5a4_row24_col0, #T_3f5a4_row24_col1 {\n",
       "  background-color: #e7f6e2;\n",
       "  color: #000000;\n",
       "}\n",
       "</style>\n",
       "<table id=\"T_3f5a4\">\n",
       "  <thead>\n",
       "    <tr>\n",
       "      <th class=\"blank level0\" >&nbsp;</th>\n",
       "      <th id=\"T_3f5a4_level0_col0\" class=\"col_heading level0 col0\" >Actual</th>\n",
       "      <th id=\"T_3f5a4_level0_col1\" class=\"col_heading level0 col1\" >predicted</th>\n",
       "    </tr>\n",
       "  </thead>\n",
       "  <tbody>\n",
       "    <tr>\n",
       "      <th id=\"T_3f5a4_level0_row0\" class=\"row_heading level0 row0\" >0</th>\n",
       "      <td id=\"T_3f5a4_row0_col0\" class=\"data row0 col0\" >106.860001</td>\n",
       "      <td id=\"T_3f5a4_row0_col1\" class=\"data row0 col1\" >106.521399</td>\n",
       "    </tr>\n",
       "    <tr>\n",
       "      <th id=\"T_3f5a4_level0_row1\" class=\"row_heading level0 row1\" >1</th>\n",
       "      <td id=\"T_3f5a4_row1_col0\" class=\"data row1 col0\" >10.630000</td>\n",
       "      <td id=\"T_3f5a4_row1_col1\" class=\"data row1 col1\" >10.672700</td>\n",
       "    </tr>\n",
       "    <tr>\n",
       "      <th id=\"T_3f5a4_level0_row2\" class=\"row_heading level0 row2\" >2</th>\n",
       "      <td id=\"T_3f5a4_row2_col0\" class=\"data row2 col0\" >6.630000</td>\n",
       "      <td id=\"T_3f5a4_row2_col1\" class=\"data row2 col1\" >6.658875</td>\n",
       "    </tr>\n",
       "    <tr>\n",
       "      <th id=\"T_3f5a4_level0_row3\" class=\"row_heading level0 row3\" >3</th>\n",
       "      <td id=\"T_3f5a4_row3_col0\" class=\"data row3 col0\" >13.000000</td>\n",
       "      <td id=\"T_3f5a4_row3_col1\" class=\"data row3 col1\" >13.035375</td>\n",
       "    </tr>\n",
       "    <tr>\n",
       "      <th id=\"T_3f5a4_level0_row4\" class=\"row_heading level0 row4\" >4</th>\n",
       "      <td id=\"T_3f5a4_row4_col0\" class=\"data row4 col0\" >12.297500</td>\n",
       "      <td id=\"T_3f5a4_row4_col1\" class=\"data row4 col1\" >12.324725</td>\n",
       "    </tr>\n",
       "    <tr>\n",
       "      <th id=\"T_3f5a4_level0_row5\" class=\"row_heading level0 row5\" >5</th>\n",
       "      <td id=\"T_3f5a4_row5_col0\" class=\"data row5 col0\" >8.327500</td>\n",
       "      <td id=\"T_3f5a4_row5_col1\" class=\"data row5 col1\" >8.361100</td>\n",
       "    </tr>\n",
       "    <tr>\n",
       "      <th id=\"T_3f5a4_level0_row6\" class=\"row_heading level0 row6\" >6</th>\n",
       "      <td id=\"T_3f5a4_row6_col0\" class=\"data row6 col0\" >15.302500</td>\n",
       "      <td id=\"T_3f5a4_row6_col1\" class=\"data row6 col1\" >15.415575</td>\n",
       "    </tr>\n",
       "    <tr>\n",
       "      <th id=\"T_3f5a4_level0_row7\" class=\"row_heading level0 row7\" >7</th>\n",
       "      <td id=\"T_3f5a4_row7_col0\" class=\"data row7 col0\" >12.442500</td>\n",
       "      <td id=\"T_3f5a4_row7_col1\" class=\"data row7 col1\" >12.393750</td>\n",
       "    </tr>\n",
       "    <tr>\n",
       "      <th id=\"T_3f5a4_level0_row8\" class=\"row_heading level0 row8\" >8</th>\n",
       "      <td id=\"T_3f5a4_row8_col0\" class=\"data row8 col0\" >5.312500</td>\n",
       "      <td id=\"T_3f5a4_row8_col1\" class=\"data row8 col1\" >5.269562</td>\n",
       "    </tr>\n",
       "    <tr>\n",
       "      <th id=\"T_3f5a4_level0_row9\" class=\"row_heading level0 row9\" >9</th>\n",
       "      <td id=\"T_3f5a4_row9_col0\" class=\"data row9 col0\" >21.885000</td>\n",
       "      <td id=\"T_3f5a4_row9_col1\" class=\"data row9 col1\" >21.915325</td>\n",
       "    </tr>\n",
       "    <tr>\n",
       "      <th id=\"T_3f5a4_level0_row10\" class=\"row_heading level0 row10\" >10</th>\n",
       "      <td id=\"T_3f5a4_row10_col0\" class=\"data row10 col0\" >12.632500</td>\n",
       "      <td id=\"T_3f5a4_row10_col1\" class=\"data row10 col1\" >12.652775</td>\n",
       "    </tr>\n",
       "    <tr>\n",
       "      <th id=\"T_3f5a4_level0_row11\" class=\"row_heading level0 row11\" >11</th>\n",
       "      <td id=\"T_3f5a4_row11_col0\" class=\"data row11 col0\" >6.482500</td>\n",
       "      <td id=\"T_3f5a4_row11_col1\" class=\"data row11 col1\" >6.517450</td>\n",
       "    </tr>\n",
       "    <tr>\n",
       "      <th id=\"T_3f5a4_level0_row12\" class=\"row_heading level0 row12\" >12</th>\n",
       "      <td id=\"T_3f5a4_row12_col0\" class=\"data row12 col0\" >5.880000</td>\n",
       "      <td id=\"T_3f5a4_row12_col1\" class=\"data row12 col1\" >5.808488</td>\n",
       "    </tr>\n",
       "    <tr>\n",
       "      <th id=\"T_3f5a4_level0_row13\" class=\"row_heading level0 row13\" >13</th>\n",
       "      <td id=\"T_3f5a4_row13_col0\" class=\"data row13 col0\" >35.080002</td>\n",
       "      <td id=\"T_3f5a4_row13_col1\" class=\"data row13 col1\" >35.059051</td>\n",
       "    </tr>\n",
       "    <tr>\n",
       "      <th id=\"T_3f5a4_level0_row14\" class=\"row_heading level0 row14\" >14</th>\n",
       "      <td id=\"T_3f5a4_row14_col0\" class=\"data row14 col0\" >16.184999</td>\n",
       "      <td id=\"T_3f5a4_row14_col1\" class=\"data row14 col1\" >16.243075</td>\n",
       "    </tr>\n",
       "    <tr>\n",
       "      <th id=\"T_3f5a4_level0_row15\" class=\"row_heading level0 row15\" >15</th>\n",
       "      <td id=\"T_3f5a4_row15_col0\" class=\"data row15 col0\" >6.292500</td>\n",
       "      <td id=\"T_3f5a4_row15_col1\" class=\"data row15 col1\" >6.311375</td>\n",
       "    </tr>\n",
       "    <tr>\n",
       "      <th id=\"T_3f5a4_level0_row16\" class=\"row_heading level0 row16\" >16</th>\n",
       "      <td id=\"T_3f5a4_row16_col0\" class=\"data row16 col0\" >5.645000</td>\n",
       "      <td id=\"T_3f5a4_row16_col1\" class=\"data row16 col1\" >5.666894</td>\n",
       "    </tr>\n",
       "    <tr>\n",
       "      <th id=\"T_3f5a4_level0_row17\" class=\"row_heading level0 row17\" >17</th>\n",
       "      <td id=\"T_3f5a4_row17_col0\" class=\"data row17 col0\" >12.522500</td>\n",
       "      <td id=\"T_3f5a4_row17_col1\" class=\"data row17 col1\" >12.503375</td>\n",
       "    </tr>\n",
       "    <tr>\n",
       "      <th id=\"T_3f5a4_level0_row18\" class=\"row_heading level0 row18\" >18</th>\n",
       "      <td id=\"T_3f5a4_row18_col0\" class=\"data row18 col0\" >12.582500</td>\n",
       "      <td id=\"T_3f5a4_row18_col1\" class=\"data row18 col1\" >12.425150</td>\n",
       "    </tr>\n",
       "    <tr>\n",
       "      <th id=\"T_3f5a4_level0_row19\" class=\"row_heading level0 row19\" >19</th>\n",
       "      <td id=\"T_3f5a4_row19_col0\" class=\"data row19 col0\" >11.247500</td>\n",
       "      <td id=\"T_3f5a4_row19_col1\" class=\"data row19 col1\" >11.254150</td>\n",
       "    </tr>\n",
       "    <tr>\n",
       "      <th id=\"T_3f5a4_level0_row20\" class=\"row_heading level0 row20\" >20</th>\n",
       "      <td id=\"T_3f5a4_row20_col0\" class=\"data row20 col0\" >43.785000</td>\n",
       "      <td id=\"T_3f5a4_row20_col1\" class=\"data row20 col1\" >43.373500</td>\n",
       "    </tr>\n",
       "    <tr>\n",
       "      <th id=\"T_3f5a4_level0_row21\" class=\"row_heading level0 row21\" >21</th>\n",
       "      <td id=\"T_3f5a4_row21_col0\" class=\"data row21 col0\" >7.595000</td>\n",
       "      <td id=\"T_3f5a4_row21_col1\" class=\"data row21 col1\" >7.534450</td>\n",
       "    </tr>\n",
       "    <tr>\n",
       "      <th id=\"T_3f5a4_level0_row22\" class=\"row_heading level0 row22\" >22</th>\n",
       "      <td id=\"T_3f5a4_row22_col0\" class=\"data row22 col0\" >10.895000</td>\n",
       "      <td id=\"T_3f5a4_row22_col1\" class=\"data row22 col1\" >10.816475</td>\n",
       "    </tr>\n",
       "    <tr>\n",
       "      <th id=\"T_3f5a4_level0_row23\" class=\"row_heading level0 row23\" >23</th>\n",
       "      <td id=\"T_3f5a4_row23_col0\" class=\"data row23 col0\" >86.720001</td>\n",
       "      <td id=\"T_3f5a4_row23_col1\" class=\"data row23 col1\" >87.455801</td>\n",
       "    </tr>\n",
       "    <tr>\n",
       "      <th id=\"T_3f5a4_level0_row24\" class=\"row_heading level0 row24\" >24</th>\n",
       "      <td id=\"T_3f5a4_row24_col0\" class=\"data row24 col0\" >16.910000</td>\n",
       "      <td id=\"T_3f5a4_row24_col1\" class=\"data row24 col1\" >16.859725</td>\n",
       "    </tr>\n",
       "  </tbody>\n",
       "</table>\n"
      ],
      "text/plain": [
       "<pandas.io.formats.style.Styler at 0x1dd48a99220>"
      ]
     },
     "execution_count": 26,
     "metadata": {},
     "output_type": "execute_result"
    }
   ],
   "source": [
    "dfr = pd.DataFrame({'Actual':y_test.flatten(),'predicted':ypred.flatten()})\n",
    "dfr.head(25).style.background_gradient(cmap = 'Greens')"
   ]
  },
  {
   "cell_type": "code",
   "execution_count": 27,
   "metadata": {},
   "outputs": [
    {
     "data": {
      "text/plain": [
       "<AxesSubplot:>"
      ]
     },
     "execution_count": 27,
     "metadata": {},
     "output_type": "execute_result"
    },
    {
     "data": {
      "image/png": "[encoded data removed]",
      "text/plain": [
       "<Figure size 1600x800 with 1 Axes>"
      ]
     },
     "metadata": {},
     "output_type": "display_data"
    }
   ],
   "source": [
    "graph = dfr.head(25)\n",
    "\n",
    "graph.plot(kind = 'bar',figsize = (16,8))\n"
   ]
  },
  {
   "cell_type": "code",
   "execution_count": null,
   "metadata": {},
   "outputs": [],
   "source": []
  }
 ],
 "metadata": {
  "colab": {
   "collapsed_sections": [],
   "name": "14_Stock prediction using SVM REGRESSION.ipynb",
   "provenance": []
  },
  "kernelspec": {
   "display_name": "Python 3 (ipykernel)",
   "language": "python",
   "name": "python3"
  },
  "language_info": {
   "codemirror_mode": {
    "name": "ipython",
    "version": 3
   },
   "file_extension": ".py",
   "mimetype": "text/x-python",
   "name": "python",
   "nbconvert_exporter": "python",
   "pygments_lexer": "ipython3",
   "version": "3.9.13"
  }
 },
 "nbformat": 4,
 "nbformat_minor": 1
}
